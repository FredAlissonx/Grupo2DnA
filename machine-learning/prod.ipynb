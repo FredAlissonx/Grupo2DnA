{
 "cells": [
  {
   "cell_type": "markdown",
   "metadata": {},
   "source": [
    "# Preparação das Bases"
   ]
  },
  {
   "cell_type": "code",
   "execution_count": 22,
   "metadata": {},
   "outputs": [],
   "source": [
    "# Importa bibliotecas\n",
    "import requests\n",
    "import os\n",
    "import sys\n",
    "\n",
    "import pandas as pd\n",
    "import numpy as np\n",
    "import matplotlib.pyplot  as plt\n",
    "import seaborn as sns\n",
    "\n",
    "from sklearn.model_selection import train_test_split\n",
    "from sklearn.neighbors import KNeighborsClassifier\n",
    "from sklearn.datasets import load_iris\n",
    "from sklearn.model_selection import cross_val_score\n",
    "from sklearn.tree import DecisionTreeClassifier\n",
    "from sklearn.metrics import accuracy_score\n",
    "from sklearn.metrics import confusion_matrix\n",
    "from sklearn.metrics import recall_score\n",
    "from sklearn.preprocessing import MinMaxScaler\n",
    "from sklearn import datasets\n",
    "from sklearn.metrics import ConfusionMatrixDisplay\n",
    "\n",
    "\n",
    "from sklearn.ensemble import GradientBoostingClassifier\n",
    "\n",
    "import joblib\n",
    "\n",
    "from skopt import BayesSearchCV\n",
    "from skopt.space import Real, Categorical, Integer\n",
    "from xgboost import XGBClassifier\n",
    "from imblearn.over_sampling import SMOTE, ADASYN"
   ]
  },
  {
   "cell_type": "code",
   "execution_count": 5,
   "metadata": {},
   "outputs": [
    {
     "data": {
      "text/html": [
       "<div>\n",
       "<style scoped>\n",
       "    .dataframe tbody tr th:only-of-type {\n",
       "        vertical-align: middle;\n",
       "    }\n",
       "\n",
       "    .dataframe tbody tr th {\n",
       "        vertical-align: top;\n",
       "    }\n",
       "\n",
       "    .dataframe thead th {\n",
       "        text-align: right;\n",
       "    }\n",
       "</style>\n",
       "<table border=\"1\" class=\"dataframe\">\n",
       "  <thead>\n",
       "    <tr style=\"text-align: right;\">\n",
       "      <th></th>\n",
       "      <th>CustomerId</th>\n",
       "      <th>CreditScore</th>\n",
       "      <th>Geography</th>\n",
       "      <th>Gender</th>\n",
       "      <th>Age</th>\n",
       "      <th>Tenure</th>\n",
       "      <th>Balance</th>\n",
       "      <th>NumOfProducts</th>\n",
       "      <th>HasCrCard</th>\n",
       "      <th>IsActiveMember</th>\n",
       "      <th>EstimatedSalary</th>\n",
       "      <th>Exited</th>\n",
       "    </tr>\n",
       "  </thead>\n",
       "  <tbody>\n",
       "    <tr>\n",
       "      <th>0</th>\n",
       "      <td>15634602</td>\n",
       "      <td>619</td>\n",
       "      <td>France</td>\n",
       "      <td>Female</td>\n",
       "      <td>42</td>\n",
       "      <td>2</td>\n",
       "      <td>0.00</td>\n",
       "      <td>1</td>\n",
       "      <td>1</td>\n",
       "      <td>1</td>\n",
       "      <td>101348.88</td>\n",
       "      <td>1</td>\n",
       "    </tr>\n",
       "    <tr>\n",
       "      <th>1</th>\n",
       "      <td>15647311</td>\n",
       "      <td>608</td>\n",
       "      <td>Spain</td>\n",
       "      <td>Female</td>\n",
       "      <td>41</td>\n",
       "      <td>1</td>\n",
       "      <td>83807.86</td>\n",
       "      <td>1</td>\n",
       "      <td>0</td>\n",
       "      <td>1</td>\n",
       "      <td>112542.58</td>\n",
       "      <td>0</td>\n",
       "    </tr>\n",
       "    <tr>\n",
       "      <th>2</th>\n",
       "      <td>15619304</td>\n",
       "      <td>502</td>\n",
       "      <td>France</td>\n",
       "      <td>Female</td>\n",
       "      <td>42</td>\n",
       "      <td>8</td>\n",
       "      <td>159660.80</td>\n",
       "      <td>3</td>\n",
       "      <td>1</td>\n",
       "      <td>0</td>\n",
       "      <td>113931.57</td>\n",
       "      <td>1</td>\n",
       "    </tr>\n",
       "    <tr>\n",
       "      <th>3</th>\n",
       "      <td>15701354</td>\n",
       "      <td>699</td>\n",
       "      <td>France</td>\n",
       "      <td>Female</td>\n",
       "      <td>39</td>\n",
       "      <td>1</td>\n",
       "      <td>0.00</td>\n",
       "      <td>2</td>\n",
       "      <td>0</td>\n",
       "      <td>0</td>\n",
       "      <td>93826.63</td>\n",
       "      <td>0</td>\n",
       "    </tr>\n",
       "    <tr>\n",
       "      <th>4</th>\n",
       "      <td>15737888</td>\n",
       "      <td>850</td>\n",
       "      <td>Spain</td>\n",
       "      <td>Female</td>\n",
       "      <td>43</td>\n",
       "      <td>2</td>\n",
       "      <td>125510.82</td>\n",
       "      <td>1</td>\n",
       "      <td>1</td>\n",
       "      <td>1</td>\n",
       "      <td>79084.10</td>\n",
       "      <td>0</td>\n",
       "    </tr>\n",
       "  </tbody>\n",
       "</table>\n",
       "</div>"
      ],
      "text/plain": [
       "   CustomerId  CreditScore Geography  Gender  Age  Tenure    Balance  \\\n",
       "0    15634602          619    France  Female   42       2       0.00   \n",
       "1    15647311          608     Spain  Female   41       1   83807.86   \n",
       "2    15619304          502    France  Female   42       8  159660.80   \n",
       "3    15701354          699    France  Female   39       1       0.00   \n",
       "4    15737888          850     Spain  Female   43       2  125510.82   \n",
       "\n",
       "   NumOfProducts  HasCrCard  IsActiveMember  EstimatedSalary  Exited  \n",
       "0              1          1               1        101348.88       1  \n",
       "1              1          0               1        112542.58       0  \n",
       "2              3          1               0        113931.57       1  \n",
       "3              2          0               0         93826.63       0  \n",
       "4              1          1               1         79084.10       0  "
      ]
     },
     "execution_count": 5,
     "metadata": {},
     "output_type": "execute_result"
    }
   ],
   "source": [
    "# Importa Base de Dados\n",
    "df_ml = pd.read_csv('C:/Users/CB517RL/OneDrive - EY/Desktop/Projeto final/Grupo2DnA/bases/Prata/clean.csv', sep = \";\")\n",
    "df_ml.head()"
   ]
  },
  {
   "cell_type": "code",
   "execution_count": 6,
   "metadata": {},
   "outputs": [],
   "source": [
    "# Substitui variaveis descritivas\n",
    "df_ml['id_geography'] = df_ml['Geography'].replace({'France': 0, 'Spain': 1, 'Germany': 2})\n",
    "df_ml['id_gender'] = df_ml['Gender'].replace({'Female': 0, 'Male': 1})"
   ]
  },
  {
   "cell_type": "code",
   "execution_count": 9,
   "metadata": {},
   "outputs": [],
   "source": [
    "# Exclui colunas que nao serao utilizadas no modelo\n",
    "df_ml = df_ml.drop(columns=[\"Geography\", \"Gender\"])"
   ]
  },
  {
   "cell_type": "markdown",
   "metadata": {},
   "source": [
    "# Construção dos Modelos"
   ]
  },
  {
   "cell_type": "markdown",
   "metadata": {},
   "source": [
    "### Definição da variáveis de treino e de teste"
   ]
  },
  {
   "cell_type": "code",
   "execution_count": 10,
   "metadata": {},
   "outputs": [],
   "source": [
    "# definindo a aleatoriedade para separação das bases de treino e de teste\n",
    "SEED = 5\n",
    "np.random.seed(SEED)"
   ]
  },
  {
   "cell_type": "code",
   "execution_count": 11,
   "metadata": {},
   "outputs": [],
   "source": [
    "# Separa os dados em features e target\n",
    "x = df_ml[[\"CreditScore\", \"Age\", \"Tenure\", \"Balance\", \"NumOfProducts\", \"HasCrCard\", \"IsActiveMember\", \"EstimatedSalary\", \"id_geography\", \"id_gender\"]] # Features\n",
    "y = df_ml[\"Exited\"] # Target variable"
   ]
  },
  {
   "cell_type": "markdown",
   "metadata": {},
   "source": [
    "Base possue grande desproporcionalidade entre os valores de churn positivo e churn negativo, por isso o balanceamento é necessário."
   ]
  },
  {
   "cell_type": "code",
   "execution_count": 12,
   "metadata": {},
   "outputs": [],
   "source": [
    "# Usa SMOTE() para balancear a divisao entre número de churn positivos e de negativos\n",
    "treino_x, treino_y = SMOTE().fit_resample(x, y)"
   ]
  },
  {
   "cell_type": "code",
   "execution_count": 13,
   "metadata": {},
   "outputs": [
    {
     "name": "stdout",
     "output_type": "stream",
     "text": [
      "Contagem de classes antes do balanceamento:\n",
      "Exited\n",
      "0    7934\n",
      "1    2017\n",
      "Name: count, dtype: int64\n",
      "\n",
      "Contagem de classes após o balanceamento:\n",
      "Exited\n",
      "1    7934\n",
      "0    7934\n",
      "Name: count, dtype: int64\n"
     ]
    }
   ],
   "source": [
    "print(\"Contagem de classes antes do balanceamento:\")\n",
    "print(y.value_counts())\n",
    " \n",
    "print(\"\\nContagem de classes após o balanceamento:\")\n",
    "print(treino_y.value_counts())"
   ]
  },
  {
   "cell_type": "code",
   "execution_count": 14,
   "metadata": {},
   "outputs": [],
   "source": [
    "# Divide de variaveis de treino e de teste (features e target)\n",
    "treino_x, teste_x, treino_y, teste_y = train_test_split(treino_x, \n",
    "                                                        treino_y, \n",
    "                                                        random_state=SEED, \n",
    "                                                        test_size=0.3)"
   ]
  },
  {
   "cell_type": "code",
   "execution_count": 15,
   "metadata": {},
   "outputs": [],
   "source": [
    "# Escala as duas variáveis\n",
    "scaler = MinMaxScaler(feature_range=(0, 1))\n",
    "treino_x = scaler.fit_transform(treino_x)\n",
    "teste_x = scaler.fit_transform(teste_x)"
   ]
  },
  {
   "cell_type": "markdown",
   "metadata": {},
   "source": [
    "### XGBOOST"
   ]
  },
  {
   "cell_type": "code",
   "execution_count": 16,
   "metadata": {},
   "outputs": [],
   "source": [
    "# Modelo XGBOOST\n",
    "xgboost = XGBClassifier()"
   ]
  },
  {
   "cell_type": "code",
   "execution_count": 17,
   "metadata": {},
   "outputs": [],
   "source": [
    "# Hiperparâmetros XGBOOST utilizando BayesSearchCV\n",
    "param_space_xgboost = {\n",
    "    'n_estimators': Integer(50, 1000),\n",
    "    'max_depth': Integer(3, 50),\n",
    "    'learning_rate': Real(0.01, 1.0, 'log-uniform'),\n",
    "    'subsample': Real(0.5, 1.0),\n",
    "    'colsample_bytree': Real(0.5, 1.0),\n",
    "    'min_child_weight': Integer(1, 10),\n",
    "    'gamma': Real(0, 5),\n",
    "    'reg_alpha': Real(0, 5),\n",
    "    'reg_lambda': Real(0, 5)\n",
    "}\n",
    "\n",
    "# Instância do BayesSearchCV\n",
    "bayes_xgboost = BayesSearchCV(\n",
    "    estimator=xgboost,\n",
    "    search_spaces=param_space_xgboost,\n",
    "    n_iter=50,    \n",
    "    cv=3,         \n",
    "    scoring='accuracy',  \n",
    "    n_jobs=-1     \n",
    ")\n"
   ]
  },
  {
   "cell_type": "code",
   "execution_count": 18,
   "metadata": {},
   "outputs": [],
   "source": [
    "# Rodando modelo com hiperparametros definidos\n",
    "bayes_xgboost.fit(treino_x, treino_y)\n",
    "previsoes_xgboost = bayes_xgboost.predict(teste_x)"
   ]
  },
  {
   "cell_type": "code",
   "execution_count": 19,
   "metadata": {},
   "outputs": [
    {
     "name": "stdout",
     "output_type": "stream",
     "text": [
      "A acurácia foi de: 86.47%\n"
     ]
    }
   ],
   "source": [
    "# Acuracia xgboost\n",
    "acuracia_xgboost = accuracy_score(teste_y, previsoes_xgboost) * 100\n",
    "print(\"A acurácia foi de: %.2f%%\" % acuracia_xgboost)"
   ]
  },
  {
   "cell_type": "code",
   "execution_count": 20,
   "metadata": {},
   "outputs": [
    {
     "data": {
      "image/png": "[encoded data removed]",
      "text/plain": [
       "<Figure size 800x600 with 2 Axes>"
      ]
     },
     "metadata": {},
     "output_type": "display_data"
    }
   ],
   "source": [
    "# Matriz de confusao XGBOOST\n",
    "y_true_xgboost = teste_y\n",
    "y_pred_xgboost = previsoes_xgboost\n",
    "matriz_de_confusao_xgboost = confusion_matrix(y_true_xgboost, y_pred_xgboost) \n",
    " \n",
    "plt.figure(figsize=(8, 6))\n",
    " \n",
    "sns.heatmap(matriz_de_confusao_xgboost, annot=True, fmt='d')\n",
    " \n",
    "plt.title('Matriz de Confusão - xgboost')\n",
    "plt.show()"
   ]
  },
  {
   "cell_type": "code",
   "execution_count": 21,
   "metadata": {},
   "outputs": [
    {
     "data": {
      "text/plain": [
       "array([[2010,  338],\n",
       "       [ 306, 2107]], dtype=int64)"
      ]
     },
     "execution_count": 21,
     "metadata": {},
     "output_type": "execute_result"
    }
   ],
   "source": [
    "matriz_de_confusao_xgboost"
   ]
  },
  {
   "cell_type": "code",
   "execution_count": 22,
   "metadata": {},
   "outputs": [
    {
     "name": "stdout",
     "output_type": "stream",
     "text": [
      "A taxa de Recall do xgboost foi de: 87.32%\n"
     ]
    }
   ],
   "source": [
    "# Recall XGBOOST\n",
    "recall_xgboost = recall_score(teste_y, previsoes_xgboost) * 100\n",
    "print(\"A taxa de Recall do xgboost foi de: %.2f%%\" % recall_xgboost)"
   ]
  },
  {
   "cell_type": "markdown",
   "metadata": {},
   "source": [
    "# Resultado do modelo"
   ]
  },
  {
   "cell_type": "code",
   "execution_count": 23,
   "metadata": {},
   "outputs": [],
   "source": [
    "df_inverse = scaler.inverse_transform(teste_x)"
   ]
  },
  {
   "cell_type": "code",
   "execution_count": 24,
   "metadata": {},
   "outputs": [
    {
     "data": {
      "text/plain": [
       "array([0, 0, 0, ..., 0, 0, 0])"
      ]
     },
     "execution_count": 24,
     "metadata": {},
     "output_type": "execute_result"
    }
   ],
   "source": [
    "previsoes_xgboost"
   ]
  },
  {
   "cell_type": "code",
   "execution_count": 25,
   "metadata": {},
   "outputs": [
    {
     "data": {
      "text/html": [
       "<div>\n",
       "<style scoped>\n",
       "    .dataframe tbody tr th:only-of-type {\n",
       "        vertical-align: middle;\n",
       "    }\n",
       "\n",
       "    .dataframe tbody tr th {\n",
       "        vertical-align: top;\n",
       "    }\n",
       "\n",
       "    .dataframe thead th {\n",
       "        text-align: right;\n",
       "    }\n",
       "</style>\n",
       "<table border=\"1\" class=\"dataframe\">\n",
       "  <thead>\n",
       "    <tr style=\"text-align: right;\">\n",
       "      <th></th>\n",
       "      <th>CreditScore</th>\n",
       "      <th>Age</th>\n",
       "      <th>Tenure</th>\n",
       "      <th>Balance</th>\n",
       "      <th>NumOfProducts</th>\n",
       "      <th>HasCrCard</th>\n",
       "      <th>IsActiveMember</th>\n",
       "      <th>EstimatedSalary</th>\n",
       "      <th>id_geography</th>\n",
       "      <th>id_gender</th>\n",
       "      <th>previsoes</th>\n",
       "    </tr>\n",
       "  </thead>\n",
       "  <tbody>\n",
       "    <tr>\n",
       "      <th>0</th>\n",
       "      <td>681.0</td>\n",
       "      <td>29.0</td>\n",
       "      <td>2.0</td>\n",
       "      <td>148143.840000</td>\n",
       "      <td>1.0</td>\n",
       "      <td>1.0</td>\n",
       "      <td>1.0</td>\n",
       "      <td>52021.390000</td>\n",
       "      <td>0.0</td>\n",
       "      <td>0.0</td>\n",
       "      <td>0</td>\n",
       "    </tr>\n",
       "    <tr>\n",
       "      <th>1</th>\n",
       "      <td>739.0</td>\n",
       "      <td>37.0</td>\n",
       "      <td>7.0</td>\n",
       "      <td>104960.460000</td>\n",
       "      <td>1.0</td>\n",
       "      <td>0.0</td>\n",
       "      <td>1.0</td>\n",
       "      <td>80883.820000</td>\n",
       "      <td>0.0</td>\n",
       "      <td>1.0</td>\n",
       "      <td>0</td>\n",
       "    </tr>\n",
       "    <tr>\n",
       "      <th>2</th>\n",
       "      <td>597.0</td>\n",
       "      <td>35.0</td>\n",
       "      <td>0.0</td>\n",
       "      <td>127510.990000</td>\n",
       "      <td>1.0</td>\n",
       "      <td>1.0</td>\n",
       "      <td>1.0</td>\n",
       "      <td>155356.340000</td>\n",
       "      <td>1.0</td>\n",
       "      <td>1.0</td>\n",
       "      <td>0</td>\n",
       "    </tr>\n",
       "    <tr>\n",
       "      <th>3</th>\n",
       "      <td>493.0</td>\n",
       "      <td>44.0</td>\n",
       "      <td>7.0</td>\n",
       "      <td>143684.302485</td>\n",
       "      <td>2.0</td>\n",
       "      <td>1.0</td>\n",
       "      <td>0.0</td>\n",
       "      <td>141391.209481</td>\n",
       "      <td>1.0</td>\n",
       "      <td>0.0</td>\n",
       "      <td>1</td>\n",
       "    </tr>\n",
       "    <tr>\n",
       "      <th>4</th>\n",
       "      <td>828.0</td>\n",
       "      <td>42.0</td>\n",
       "      <td>10.0</td>\n",
       "      <td>0.000000</td>\n",
       "      <td>1.0</td>\n",
       "      <td>1.0</td>\n",
       "      <td>1.0</td>\n",
       "      <td>186071.140000</td>\n",
       "      <td>1.0</td>\n",
       "      <td>1.0</td>\n",
       "      <td>0</td>\n",
       "    </tr>\n",
       "  </tbody>\n",
       "</table>\n",
       "</div>"
      ],
      "text/plain": [
       "   CreditScore   Age  Tenure        Balance  NumOfProducts  HasCrCard  \\\n",
       "0        681.0  29.0     2.0  148143.840000            1.0        1.0   \n",
       "1        739.0  37.0     7.0  104960.460000            1.0        0.0   \n",
       "2        597.0  35.0     0.0  127510.990000            1.0        1.0   \n",
       "3        493.0  44.0     7.0  143684.302485            2.0        1.0   \n",
       "4        828.0  42.0    10.0       0.000000            1.0        1.0   \n",
       "\n",
       "   IsActiveMember  EstimatedSalary  id_geography  id_gender  previsoes  \n",
       "0             1.0     52021.390000           0.0        0.0          0  \n",
       "1             1.0     80883.820000           0.0        1.0          0  \n",
       "2             1.0    155356.340000           1.0        1.0          0  \n",
       "3             0.0    141391.209481           1.0        0.0          1  \n",
       "4             1.0    186071.140000           1.0        1.0          0  "
      ]
     },
     "execution_count": 25,
     "metadata": {},
     "output_type": "execute_result"
    }
   ],
   "source": [
    "\n",
    "df_result = pd.DataFrame(df_inverse, columns = [\"CreditScore\", \"Age\", \"Tenure\", \"Balance\", \"NumOfProducts\", \"HasCrCard\", \"IsActiveMember\", \"EstimatedSalary\", \"id_geography\", \"id_gender\"])\n",
    "df_result['previsoes'] = previsoes_xgboost\n",
    "df_result.head()"
   ]
  },
  {
   "cell_type": "code",
   "execution_count": 26,
   "metadata": {},
   "outputs": [
    {
     "data": {
      "text/html": [
       "<div>\n",
       "<style scoped>\n",
       "    .dataframe tbody tr th:only-of-type {\n",
       "        vertical-align: middle;\n",
       "    }\n",
       "\n",
       "    .dataframe tbody tr th {\n",
       "        vertical-align: top;\n",
       "    }\n",
       "\n",
       "    .dataframe thead th {\n",
       "        text-align: right;\n",
       "    }\n",
       "</style>\n",
       "<table border=\"1\" class=\"dataframe\">\n",
       "  <thead>\n",
       "    <tr style=\"text-align: right;\">\n",
       "      <th></th>\n",
       "      <th>CreditScore</th>\n",
       "      <th>Age</th>\n",
       "      <th>Tenure</th>\n",
       "      <th>Balance</th>\n",
       "      <th>NumOfProducts</th>\n",
       "      <th>HasCrCard</th>\n",
       "      <th>IsActiveMember</th>\n",
       "      <th>EstimatedSalary</th>\n",
       "      <th>id_geography</th>\n",
       "      <th>id_gender</th>\n",
       "      <th>previsoes</th>\n",
       "    </tr>\n",
       "  </thead>\n",
       "  <tbody>\n",
       "    <tr>\n",
       "      <th>3</th>\n",
       "      <td>493.0</td>\n",
       "      <td>44.0</td>\n",
       "      <td>7.0</td>\n",
       "      <td>143684.302485</td>\n",
       "      <td>2.0</td>\n",
       "      <td>1.0</td>\n",
       "      <td>0.0</td>\n",
       "      <td>141391.209481</td>\n",
       "      <td>1.0</td>\n",
       "      <td>0.0</td>\n",
       "      <td>1</td>\n",
       "    </tr>\n",
       "    <tr>\n",
       "      <th>8</th>\n",
       "      <td>589.0</td>\n",
       "      <td>42.0</td>\n",
       "      <td>3.0</td>\n",
       "      <td>0.000000</td>\n",
       "      <td>1.0</td>\n",
       "      <td>1.0</td>\n",
       "      <td>0.0</td>\n",
       "      <td>85280.322756</td>\n",
       "      <td>0.0</td>\n",
       "      <td>0.0</td>\n",
       "      <td>1</td>\n",
       "    </tr>\n",
       "    <tr>\n",
       "      <th>9</th>\n",
       "      <td>539.0</td>\n",
       "      <td>53.0</td>\n",
       "      <td>3.0</td>\n",
       "      <td>0.000000</td>\n",
       "      <td>1.0</td>\n",
       "      <td>1.0</td>\n",
       "      <td>0.0</td>\n",
       "      <td>49572.912689</td>\n",
       "      <td>0.0</td>\n",
       "      <td>0.0</td>\n",
       "      <td>1</td>\n",
       "    </tr>\n",
       "    <tr>\n",
       "      <th>10</th>\n",
       "      <td>633.0</td>\n",
       "      <td>32.0</td>\n",
       "      <td>8.0</td>\n",
       "      <td>108705.687514</td>\n",
       "      <td>1.0</td>\n",
       "      <td>0.0</td>\n",
       "      <td>0.0</td>\n",
       "      <td>179391.055309</td>\n",
       "      <td>1.0</td>\n",
       "      <td>1.0</td>\n",
       "      <td>1</td>\n",
       "    </tr>\n",
       "    <tr>\n",
       "      <th>11</th>\n",
       "      <td>650.0</td>\n",
       "      <td>50.0</td>\n",
       "      <td>3.0</td>\n",
       "      <td>126579.260257</td>\n",
       "      <td>1.0</td>\n",
       "      <td>0.0</td>\n",
       "      <td>0.0</td>\n",
       "      <td>17439.864939</td>\n",
       "      <td>2.0</td>\n",
       "      <td>1.0</td>\n",
       "      <td>1</td>\n",
       "    </tr>\n",
       "  </tbody>\n",
       "</table>\n",
       "</div>"
      ],
      "text/plain": [
       "    CreditScore   Age  Tenure        Balance  NumOfProducts  HasCrCard  \\\n",
       "3         493.0  44.0     7.0  143684.302485            2.0        1.0   \n",
       "8         589.0  42.0     3.0       0.000000            1.0        1.0   \n",
       "9         539.0  53.0     3.0       0.000000            1.0        1.0   \n",
       "10        633.0  32.0     8.0  108705.687514            1.0        0.0   \n",
       "11        650.0  50.0     3.0  126579.260257            1.0        0.0   \n",
       "\n",
       "    IsActiveMember  EstimatedSalary  id_geography  id_gender  previsoes  \n",
       "3              0.0    141391.209481           1.0        0.0          1  \n",
       "8              0.0     85280.322756           0.0        0.0          1  \n",
       "9              0.0     49572.912689           0.0        0.0          1  \n",
       "10             0.0    179391.055309           1.0        1.0          1  \n",
       "11             0.0     17439.864939           2.0        1.0          1  "
      ]
     },
     "execution_count": 26,
     "metadata": {},
     "output_type": "execute_result"
    }
   ],
   "source": [
    "churn = df_result[df_result['previsoes'] == 1]\n",
    "churn.head()"
   ]
  },
  {
   "cell_type": "code",
   "execution_count": 44,
   "metadata": {},
   "outputs": [],
   "source": [
    "# Salvando resultados do modelo\n",
    "df_result.to_csv('df_previsoes_gerais.csv')\n",
    "churn.to_csv('df_previsoes_positivas.csv')"
   ]
  },
  {
   "cell_type": "markdown",
   "metadata": {},
   "source": [
    "# Integração EYQ"
   ]
  },
  {
   "cell_type": "code",
   "execution_count": 23,
   "metadata": {},
   "outputs": [],
   "source": [
    "# More secure way\n",
    "# incubator_endpoint = os.getenv(\"EYQ_INCUBATOR_ENDPOINT\")\n",
    "# incubator_key = os.getenv(\"EYQ_INCUBATOR_KEY\")\n",
    "# Less secure way\n",
    "incubator_endpoint = \"https://eyqincubator.america.fabric.ey.com/eyq/canadaeast/api/\"\n",
    "incubator_key = \"toNx9GPyvXRB9C6sDC8G47XAO2IKGeZV\"\n",
    "api_version = \"2023-05-15\"\n",
    "model = \"gpt-4\"  # Replace with desired model\n",
    "headers = {\n",
    "    \"x-api-key\": incubator_key\n",
    "}\n",
    "query_params = {\n",
    "    \"api-version\": api_version\n",
    "}\n",
    "\n",
    " \n",
    "def chat(prompt):\n",
    "    body = {\n",
    "        \"messages\":[\n",
    "            {\"role\": \"system\", \"content\":\"\"\"\n",
    "            Você é um assistente de um banco e tem como trabalho evitar que clientes com alta porcentagem de churn deixem de ser clientes. Você pode oferecer até 20 por cento de desconto  para todos os clientes que optarem por sair do banco.  Fale com uma linguagem amigavel porém profissional, mostre para o cliente que estamos dispostos a atender suas necessidades.\n",
    "            Além dos 20 por cento de desconto personalize a proposta para clientes que possuirem o perfil abaixo e inclua na proposta os seguintes beneficios:\n",
    "            \n",
    "            Faixa Etária Para a faixa de 33 a 47  ofereça  10 por cento de desconto em planos de aposentadoria e  educação dos filhos.\n",
    "            Influência do Gênero:  Se forem mulheres ofereça um convite para nossos workshops sobre finanças pessoais, empreendedorismo e liderança exclusivo para mulheres. também ofereça inclusão no nosso clube de beneficios como descontos em lojas parceiras, serviços de bem-estar e beleza, e programa de cashback\n",
    "            Localização Geográfica: ofereça inclusão no nosso clube de beneficios como descontos em lojas parceiras Locais, e programa de cashback\n",
    "            Atividade do Cliente: Incentive clientes não ativos com programas de fidelidade, benefícios exclusivos como cashback e comunicação aprimorada sobre os serviços bancários.\n",
    "            Pontuação de Crédito: Clientes com Score até 350 oferecer gratuitamente um curso de educação financeira.\"\"\"},\n",
    "            {\"role\":\"user\",\"content\": prompt}\n",
    "        ]\n",
    "    }\n",
    " \n",
    "    full_path = incubator_endpoint + \"/openai/deployments/\" + model + \"/chat/completions\"\n",
    " \n",
    "    response = requests.post(full_path, json=body, headers=headers, params=query_params)\n",
    " \n",
    "    response = response.json()\n",
    " \n",
    "    body[\"messages\"].append({\"role\": \"system\", \"content\": response[\"choices\"][0][\"message\"][\"content\"]})\n",
    " \n",
    "    return response[\"choices\"][0][\"message\"][\"content\"]"
   ]
  },
  {
   "cell_type": "code",
   "execution_count": 24,
   "metadata": {},
   "outputs": [
    {
     "data": {
      "text/html": [
       "<div>\n",
       "<style scoped>\n",
       "    .dataframe tbody tr th:only-of-type {\n",
       "        vertical-align: middle;\n",
       "    }\n",
       "\n",
       "    .dataframe tbody tr th {\n",
       "        vertical-align: top;\n",
       "    }\n",
       "\n",
       "    .dataframe thead th {\n",
       "        text-align: right;\n",
       "    }\n",
       "</style>\n",
       "<table border=\"1\" class=\"dataframe\">\n",
       "  <thead>\n",
       "    <tr style=\"text-align: right;\">\n",
       "      <th></th>\n",
       "      <th>CreditScore</th>\n",
       "      <th>Age</th>\n",
       "      <th>Tenure</th>\n",
       "      <th>Balance</th>\n",
       "      <th>NumOfProducts</th>\n",
       "      <th>HasCrCard</th>\n",
       "      <th>IsActiveMember</th>\n",
       "      <th>EstimatedSalary</th>\n",
       "      <th>id_geography</th>\n",
       "      <th>id_gender</th>\n",
       "      <th>previsoes</th>\n",
       "    </tr>\n",
       "  </thead>\n",
       "  <tbody>\n",
       "    <tr>\n",
       "      <th>0</th>\n",
       "      <td>493.0</td>\n",
       "      <td>44.0</td>\n",
       "      <td>7.0</td>\n",
       "      <td>143684.302485</td>\n",
       "      <td>2.0</td>\n",
       "      <td>1.0</td>\n",
       "      <td>0.0</td>\n",
       "      <td>141391.209481</td>\n",
       "      <td>1.0</td>\n",
       "      <td>0.0</td>\n",
       "      <td>1</td>\n",
       "    </tr>\n",
       "    <tr>\n",
       "      <th>1</th>\n",
       "      <td>589.0</td>\n",
       "      <td>42.0</td>\n",
       "      <td>3.0</td>\n",
       "      <td>0.000000</td>\n",
       "      <td>1.0</td>\n",
       "      <td>1.0</td>\n",
       "      <td>0.0</td>\n",
       "      <td>85280.322756</td>\n",
       "      <td>0.0</td>\n",
       "      <td>0.0</td>\n",
       "      <td>1</td>\n",
       "    </tr>\n",
       "    <tr>\n",
       "      <th>2</th>\n",
       "      <td>539.0</td>\n",
       "      <td>53.0</td>\n",
       "      <td>3.0</td>\n",
       "      <td>0.000000</td>\n",
       "      <td>1.0</td>\n",
       "      <td>1.0</td>\n",
       "      <td>0.0</td>\n",
       "      <td>49572.912689</td>\n",
       "      <td>0.0</td>\n",
       "      <td>0.0</td>\n",
       "      <td>1</td>\n",
       "    </tr>\n",
       "    <tr>\n",
       "      <th>3</th>\n",
       "      <td>633.0</td>\n",
       "      <td>32.0</td>\n",
       "      <td>8.0</td>\n",
       "      <td>108705.687514</td>\n",
       "      <td>1.0</td>\n",
       "      <td>0.0</td>\n",
       "      <td>0.0</td>\n",
       "      <td>179391.055309</td>\n",
       "      <td>1.0</td>\n",
       "      <td>1.0</td>\n",
       "      <td>1</td>\n",
       "    </tr>\n",
       "    <tr>\n",
       "      <th>4</th>\n",
       "      <td>650.0</td>\n",
       "      <td>50.0</td>\n",
       "      <td>3.0</td>\n",
       "      <td>126579.260257</td>\n",
       "      <td>1.0</td>\n",
       "      <td>0.0</td>\n",
       "      <td>0.0</td>\n",
       "      <td>17439.864939</td>\n",
       "      <td>2.0</td>\n",
       "      <td>1.0</td>\n",
       "      <td>1</td>\n",
       "    </tr>\n",
       "  </tbody>\n",
       "</table>\n",
       "</div>"
      ],
      "text/plain": [
       "   CreditScore   Age  Tenure        Balance  NumOfProducts  HasCrCard  \\\n",
       "0        493.0  44.0     7.0  143684.302485            2.0        1.0   \n",
       "1        589.0  42.0     3.0       0.000000            1.0        1.0   \n",
       "2        539.0  53.0     3.0       0.000000            1.0        1.0   \n",
       "3        633.0  32.0     8.0  108705.687514            1.0        0.0   \n",
       "4        650.0  50.0     3.0  126579.260257            1.0        0.0   \n",
       "\n",
       "   IsActiveMember  EstimatedSalary  id_geography  id_gender  previsoes  \n",
       "0             0.0    141391.209481           1.0        0.0          1  \n",
       "1             0.0     85280.322756           0.0        0.0          1  \n",
       "2             0.0     49572.912689           0.0        0.0          1  \n",
       "3             0.0    179391.055309           1.0        1.0          1  \n",
       "4             0.0     17439.864939           2.0        1.0          1  "
      ]
     },
     "execution_count": 24,
     "metadata": {},
     "output_type": "execute_result"
    }
   ],
   "source": [
    "# import pandas as pd\n",
    "df_previsoes_positivas = pd.read_csv('C:/Users/CB517RL/OneDrive - EY/Desktop/Projeto final/Grupo2DnA/bases/Ouro/df_previsoes_positivas.csv')\n",
    "df_previsoes_positivas = df_previsoes_positivas.drop('Unnamed: 0', axis=1)\n",
    "df_previsoes_positivas.head()"
   ]
  },
  {
   "cell_type": "code",
   "execution_count": 6,
   "metadata": {},
   "outputs": [
    {
     "data": {
      "text/plain": [
       "'Caro Cliente,\\n\\nSabemos que você está considerando deixar o banco. Gostaríamos de oferecer a você uma série de benefícios. Primeiramente, oferecemos um desconto de 20% para você permanecer conosco.\\n\\nComo você tem entre 33 e 47 anos, também oferecemos um desconto adicional de 10% em planos de aposentadoria e na educação dos filhos. E como você é uma mulher ativa, gostaríamos de convidá-la para os nossos workshops sobre finanças pessoais, empreendedorismo e liderança. \\n\\nTambém queremos lhe incluir no nosso clube de benefícios. Você terá descontos nas lojas locais parceiras, serviços de bem-estar e beleza. Queremos reativar sua atividade conosco através de um programa de fidelidade e benefícios exclusivos como cashback.\\n\\nSua avaliação de crédito é até 350, assim, gostaríamos de oferecer gratuitamente um curso de educação financeira. Esperamos que você considere permanentemente essa decisão. \\n\\nEstamos aqui para atender às suas necessidades. \\n\\nEstamos te esperando!'"
      ]
     },
     "execution_count": 6,
     "metadata": {},
     "output_type": "execute_result"
    }
   ],
   "source": [
    "chat(f\"\"\"\n",
    "Personalize uma mensagem em 10 linhas para o usuario com os seguintes dados:\n",
    "     {df_previsoes_positivas.iloc[0:9]}\n",
    "     \"\"\")"
   ]
  },
  {
   "cell_type": "code",
   "execution_count": 28,
   "metadata": {},
   "outputs": [
    {
     "name": "stdout",
     "output_type": "stream",
     "text": [
      "Caro cliente, percebemos que você está considerando deixar nosso banco e gostaríamos de oferecer um desconto de 20% para você continuar conosco. Notamos que você se encontra na faixa etária de 33 a 47 anos, por isso, estamos oferecendo um adicional de 10% de desconto em nossos planos de aposentadoria e educação para os filhos. \n",
      "\n",
      "Sendo uma de nossas valiosas clientes do sexo feminino, gostaríamos de convidá-la para nossos workshops exclusivos sobre finanças pessoais, empreendedorismo e liderança. Incluiremos você em nosso clube de benefícios, com descontos em lojas parceiras, além de serviços de bem-estar e beleza e um programa de cashback.\n",
      "\n",
      "Sabemos que você não tem sido tão ativa em nossos serviços, por isso, gostaríamos de incentivá-la com nossos programas de fidelidade, incluindo benefícios exclusivos como cash back e uma comunicação aprimorada sobre nossos serviços bancários. \n",
      "\n",
      "Adicionalmente, estamos oferecendo um curso gratuito de educação financeira para te apoiar ainda mais! Juntos, podemos fazer um futuro financeiro brilhante.\n",
      "Caro cliente, entendemos suas preocupações e queremos que saiba que estamos aqui para atendê-lo do melhor modo possível. Como parte de nossos esforços, estamos oferecendo um desconto de 20% em todos os serviços bancários para você. Além disso, como nossa preciosa cliente feminina, gostaríamos de convidá-la para nossos exclusivos workshops sobre finanças pessoais, empreendedorismo e liderança. Nós também estamos oferecendo nossa inclusão em nosso clube de benefícios com descontos em lojas parceiras locais, serviços de bem-estar e beleza, além de nosso programa de cashback. Como notamos que você não tem sido muito ativo recentemente, gostaríamos de incentivá-la com nossos programas de fidelidade e benefícios exclusivos, para ajudá-la a aproveitar ao máximo nossos serviços bancários. Acreditamos que estas ofertas podem beneficiá-la significativamente.\n",
      "Caro cliente, entendemos que você está considerando deixar o nosso banco e queremos destacar o quanto valorizamos a nossa parceria. Revisamos o seu perfil e temos algumas ótimas propostas para você. Oferecemos um desconto de 20% para você continuar conosco.\n",
      "\n",
      "Embora você esteja abaixo da faixa etária de nossa oferta especial, gostaríamos de oferecer-lhe uma inclusão em nosso clube de benefícios, o que resultará em descontos em lojas parceiras locais e um programa de Cashback. Como percebemos que você não está atualmente ativo, esperamos que estes incentivos o motivem a tirar o máximo proveito de nossos serviços.\n",
      "\n",
      "Além disso, como seu score de crédito é sólido, acredito que você será capaz de aproveitar ainda mais nossos serviços. Por fim, estamos oferecendo o acesso exclusivo aos nossos workshops sobre finanças pessoais, empreendedorismo e liderança totalmente gratuito!\n",
      "\n",
      "Nos dedicamos em superar suas expectativas e esperamos que você considere nossa oferta antes de tomar uma decisão.\n",
      "Caro cliente, notamos que você esteve considerando deixar o nosso banco e gostaríamos de oferecer algumas vantagens para que você continue conosco. Estamos oferendo um desconto de 20% especialmente para você. \n",
      "\n",
      "Para te auxiliar ainda mais, temos uma proposta para membros não ativos como você. Gostaríamos de incluí-lo em nosso programa de fidelidade, onde oferecemos benefícios exclusivos, como cashback e comunicação aprimorada sobre nossos serviços bancários. \n",
      "\n",
      "Além disso, como um cliente valioso de nossa localidade, você também pode obter descontos em lojas parceiras através de nosso clube de benefícios e nosso programa de cashback. \n",
      "\n",
      "Esperamos que essas ofertas o incentivem a permanecer conosco. Estamos aqui para ajudá-lo a gerenciar suas finanças com o melhor serviço possível. Obrigado pela sua atenção.\n",
      "Caro cliente, percebemos que você está pensando em encerrar sua conta e gostaríamos de oferecer uma proposta personalizada para você. Dada a sua lealdade e alta pontuação de crédito, estamos dispostos a aplicar um desconto de 20% em qualquer serviço de sua escolha.\n",
      "\n",
      "Além disso, considerando a sua idade, estamos felizes em oferecer um desconto de 10% na nossa variedade de planos de aposentadoria, ajudando você a se preparar para um futuro seguro e confortável.\n",
      "\n",
      "Como apreciamos sua contínua atividade em nosso banco, você será incluído em nosso programa de fidelidade que oferece benefícios exclusivos, como descontos em nossas lojas parceiras locais e cashback em várias transações.\n",
      "\n",
      "Estamos empenhados em atender às suas necessidades financeiras e esperamos que essas ofertas lhe permitam continuar aproveitando os nossos serviços. Aguardamos suas considerações.\n",
      "Prezado cliente,\n",
      "\n",
      "Ouvimos suas preocupações e estamos aqui para ajudá-lo. Sabemos que nossos serviços são essenciais para você e estamos dispostos a oferecer um desconto de 20% para mantê-lo como nosso estimado cliente. Além disso, como você tem 40 anos, gostaríamos de oferecer um desconto extra de 10% em nossos planos de aposentadoria.\n",
      "\n",
      "Como nosso precioso membro do sexo masculino, temos um convite para assistirem nossos workshops sobre finanças pessoais, empreendedorismo e liderança exclusivos para homens, com a possibilidade de inclusão em nosso clube de benefícios.\n",
      "\n",
      "Identificamos que você está localizado na região 0, portanto seria incluído no nosso clube de benefícios com descontos em lojas parceiras locais. Como um cliente não ativo, também gostaríamos de incentivá-lo com nossos programas de fidelidade e benefícios exclusivos de cashback.\n",
      "\n",
      "Por último, mas não menos importante, com base na sua pontuação de crédito de 547, prevemos que você estará interessado e beneficiará do nosso curso gratuito de educação financeira. Estamos sempre à disposição para atender suas necessidades. \n",
      "\n",
      "Esperamos que você considere nossa proposta. Muito obrigado!\n",
      "Olá querida cliente,\n",
      "\n",
      "Percebemos que você tem considerado encerrar sua conta conosco. Queremos expressar nosso apreço pela sua lealdade e gostaríamos de lhe oferecer uma série de benefícios para que reconsiderar sua decisão.\n",
      "\n",
      "Como um gesto de reconhecimento, oferecemos a você um desconto de 20% em sua conta. E para maximizar seu planejamento financeiro, proporcionamos um desconto de 10% em nossos planos de aposentadoria.\n",
      "\n",
      "Além disso, temos o prazer de convidá-la para nossos workshops exclusivos sobre finanças pessoais, empreendedorismo e liderança, projetados especialmente para mulheres.\n",
      "\n",
      "Fabulosamente, estamos ampliando sua inclusão em nosso clube de benefícios que oferece descontos em lojas parceiras locais, acesso a serviços de bem-estar e beleza, além de um prático programa de cashback.\n",
      "\n",
      "Finalmente, como cliente não ativa, gostaríamos de incentivá-la a participar mais de nossos programas de fidelidade, aproveitando benefícios exclusivos e uma comunicação aprimorada sobre nossos serviços bancários.\n",
      "\n",
      "Esperamos que estas propostas possam atender suas necessidades e faríamos nosso melhor para garantir sua satisfação. Aguardamos seu feedback!\n",
      "\n",
      "Atenciosamente,\n",
      "[Seu Nome] - Assistente de Relacionamento ao Cliente\n",
      "Caro Cliente,\n",
      "\n",
      "Entendemos que você pode estar considerando deixar nosso banco e queremos evitar isso. Estamos dispostos a atender suas necessidades oferecendo um desconto de 20% em nossas taxas. Como você tem 44 anos, também gostaríamos de estender um desconto de 10% para você em nossos planos de aposentadoria e educação de filhos.\n",
      "\n",
      "Vendo que você é uma cliente mulher, temos o prazer de oferecer um convite para os nossos workshops sobre finanças pessoais, empreendedorismo e liderança feminina. Além disso, queremos incluí-la em nosso clube de benefícios, que oferece descontos em lojas parceiras, serviços de bem-estar e beleza, e um programa de cashback.\n",
      "\n",
      "Notamos que você não tem sido muito ativo recentemente. Queremos incentivar sua participação com programas de fidelidade, cashback e comunicação aprimorada sobre nossos serviços bancários.\n",
      "\n",
      "Por fim, apesar do seu CreditScore ser de 359, um pouco acima de 350, estamos dispostos a te oferecer gratuitamente um curso de educação financeira.\n",
      "\n",
      "Estamos comprometidos em atender suas necessidades.\n",
      "\n",
      "Atenciosamente,\n",
      "Seu Assistente.\n",
      "Prezado(a) Cliente,\n",
      "\n",
      "Entendemos que nosso banco pode não ter atendido plenamente às suas necessidades e estamos sinceramente dispostos a reverter isso. Como valorizamos muito a sua lealdade e continuamos comprometidos em lhe oferecer o melhor serviço, gostaríamos de lhe oferecer um desconto de 20% em todas as nossas taxas.\n",
      "\n",
      "Considerando a sua idade, gostaríamos de estender um desconto adicional de 10% nos nossos planos de aposentadoria e educação dos filhos. Também percebemos que você está incluído no nosso programa de fidelidade, oferecendo benefícios exclusivos como cashback e um melhor entendimento dos nossos serviços bancários.\n",
      "\n",
      "Como uma mulher, você tem um convite aberto para participar dos nossos workshops sobre finanças pessoais, empreendedorismo e liderança, exclusivos para mulheres. Isso sem mencionar sua inclusão no nosso clube de benefícios, com descontos em lojas parceiras, serviços de bem-estar e beleza.\n",
      "\n",
      "Esperamos fazer parte do seu futuro financeiro, adicionando valor e proteção onde mais importa.\n",
      "\n",
      "Atenciosamente,\n",
      "[Seu nome]\n",
      "[Seu cargo]\n"
     ]
    }
   ],
   "source": [
    "# Gerando mensagem para os clientes que foram identificados como possíveis churn\n",
    "mensagens = []\n",
    "for i in range(1, 10):\n",
    "    user = df_previsoes_positivas.iloc[i]\n",
    "    mensagem = chat(f\"Personalize uma mensagem com até 10 linhas para o usuario com os seguintes dados: {user}\")\n",
    "    print(mensagem)\n",
    "    mensagens.append(mensagem)"
   ]
  },
  {
   "cell_type": "code",
   "execution_count": 31,
   "metadata": {},
   "outputs": [
    {
     "data": {
      "text/html": [
       "<div>\n",
       "<style scoped>\n",
       "    .dataframe tbody tr th:only-of-type {\n",
       "        vertical-align: middle;\n",
       "    }\n",
       "\n",
       "    .dataframe tbody tr th {\n",
       "        vertical-align: top;\n",
       "    }\n",
       "\n",
       "    .dataframe thead th {\n",
       "        text-align: right;\n",
       "    }\n",
       "</style>\n",
       "<table border=\"1\" class=\"dataframe\">\n",
       "  <thead>\n",
       "    <tr style=\"text-align: right;\">\n",
       "      <th></th>\n",
       "      <th>0</th>\n",
       "    </tr>\n",
       "  </thead>\n",
       "  <tbody>\n",
       "    <tr>\n",
       "      <th>0</th>\n",
       "      <td>Caro cliente, percebemos que você está conside...</td>\n",
       "    </tr>\n",
       "    <tr>\n",
       "      <th>1</th>\n",
       "      <td>Caro cliente, entendemos suas preocupações e q...</td>\n",
       "    </tr>\n",
       "    <tr>\n",
       "      <th>2</th>\n",
       "      <td>Caro cliente, entendemos que você está conside...</td>\n",
       "    </tr>\n",
       "    <tr>\n",
       "      <th>3</th>\n",
       "      <td>Caro cliente, notamos que você esteve consider...</td>\n",
       "    </tr>\n",
       "    <tr>\n",
       "      <th>4</th>\n",
       "      <td>Caro cliente, percebemos que você está pensand...</td>\n",
       "    </tr>\n",
       "    <tr>\n",
       "      <th>5</th>\n",
       "      <td>Prezado cliente,\\n\\nOuvimos suas preocupações ...</td>\n",
       "    </tr>\n",
       "    <tr>\n",
       "      <th>6</th>\n",
       "      <td>Olá querida cliente,\\n\\nPercebemos que você te...</td>\n",
       "    </tr>\n",
       "    <tr>\n",
       "      <th>7</th>\n",
       "      <td>Caro Cliente,\\n\\nEntendemos que você pode esta...</td>\n",
       "    </tr>\n",
       "    <tr>\n",
       "      <th>8</th>\n",
       "      <td>Prezado(a) Cliente,\\n\\nEntendemos que nosso ba...</td>\n",
       "    </tr>\n",
       "  </tbody>\n",
       "</table>\n",
       "</div>"
      ],
      "text/plain": [
       "                                                   0\n",
       "0  Caro cliente, percebemos que você está conside...\n",
       "1  Caro cliente, entendemos suas preocupações e q...\n",
       "2  Caro cliente, entendemos que você está conside...\n",
       "3  Caro cliente, notamos que você esteve consider...\n",
       "4  Caro cliente, percebemos que você está pensand...\n",
       "5  Prezado cliente,\\n\\nOuvimos suas preocupações ...\n",
       "6  Olá querida cliente,\\n\\nPercebemos que você te...\n",
       "7  Caro Cliente,\\n\\nEntendemos que você pode esta...\n",
       "8  Prezado(a) Cliente,\\n\\nEntendemos que nosso ba..."
      ]
     },
     "execution_count": 31,
     "metadata": {},
     "output_type": "execute_result"
    }
   ],
   "source": [
    "df_mensagens = pd.DataFrame(mensagens)\n",
    "df_mensagens.head(10)"
   ]
  },
  {
   "cell_type": "code",
   "execution_count": 34,
   "metadata": {},
   "outputs": [],
   "source": [
    "# Salvando mensagens geradas\n",
    "# df_mensagens.to_csv('df_mensagens-geradas.csv')"
   ]
  }
 ],
 "metadata": {
  "kernelspec": {
   "display_name": "base",
   "language": "python",
   "name": "python3"
  },
  "language_info": {
   "codemirror_mode": {
    "name": "ipython",
    "version": 3
   },
   "file_extension": ".py",
   "mimetype": "text/x-python",
   "name": "python",
   "nbconvert_exporter": "python",
   "pygments_lexer": "ipython3",
   "version": "3.11.7"
  }
 },
 "nbformat": 4,
 "nbformat_minor": 2
}
