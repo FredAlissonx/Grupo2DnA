{
 "cells": [
  {
   "cell_type": "markdown",
   "metadata": {
    "jp-MarkdownHeadingCollapsed": true
   },
   "source": [
    "# Preparação das Bases"
   ]
  },
  {
   "cell_type": "code",
   "execution_count": 2,
   "metadata": {},
   "outputs": [],
   "source": [
    "# Importa bibliotecas\n",
    "import pandas as pd\n",
    "import numpy as np\n",
    "import matplotlib.pyplot  as plt\n",
    "import seaborn as sns\n",
    "\n",
    "from sklearn.svm import SVC\n",
    "from sklearn.preprocessing import StandardScaler\n",
    "from sklearn.model_selection import train_test_split\n",
    "from sklearn.neighbors import KNeighborsClassifier\n",
    "from sklearn.datasets import load_iris\n",
    "from sklearn.model_selection import cross_val_score\n",
    "from sklearn.tree import DecisionTreeClassifier\n",
    "from sklearn.metrics import accuracy_score\n",
    "from sklearn.metrics import confusion_matrix\n",
    "from sklearn.preprocessing import MinMaxScaler\n",
    "from sklearn import datasets\n",
    "from sklearn.metrics import ConfusionMatrixDisplay\n",
    "from sklearn.metrics import recall_score\n",
    "from sklearn import tree\n",
    "from sklearn.ensemble import GradientBoostingClassifier\n",
    "from sklearn.datasets import make_hastie_10_2\n",
    "\n",
    "import joblib\n",
    "\n",
    "from skopt import BayesSearchCV\n",
    "from skopt.space import Real, Categorical, Integer\n",
    "from xgboost import XGBClassifier\n",
    "from imblearn.over_sampling import SMOTE, ADASYN"
   ]
  },
  {
   "cell_type": "code",
   "execution_count": 5,
   "metadata": {},
   "outputs": [
    {
     "data": {
      "text/html": [
       "<div>\n",
       "<style scoped>\n",
       "    .dataframe tbody tr th:only-of-type {\n",
       "        vertical-align: middle;\n",
       "    }\n",
       "\n",
       "    .dataframe tbody tr th {\n",
       "        vertical-align: top;\n",
       "    }\n",
       "\n",
       "    .dataframe thead th {\n",
       "        text-align: right;\n",
       "    }\n",
       "</style>\n",
       "<table border=\"1\" class=\"dataframe\">\n",
       "  <thead>\n",
       "    <tr style=\"text-align: right;\">\n",
       "      <th></th>\n",
       "      <th>CustomerId</th>\n",
       "      <th>CreditScore</th>\n",
       "      <th>Geography</th>\n",
       "      <th>Gender</th>\n",
       "      <th>Age</th>\n",
       "      <th>Tenure</th>\n",
       "      <th>Balance</th>\n",
       "      <th>NumOfProducts</th>\n",
       "      <th>HasCrCard</th>\n",
       "      <th>IsActiveMember</th>\n",
       "      <th>EstimatedSalary</th>\n",
       "      <th>Exited</th>\n",
       "    </tr>\n",
       "  </thead>\n",
       "  <tbody>\n",
       "    <tr>\n",
       "      <th>0</th>\n",
       "      <td>15634602</td>\n",
       "      <td>619</td>\n",
       "      <td>France</td>\n",
       "      <td>Female</td>\n",
       "      <td>42</td>\n",
       "      <td>2</td>\n",
       "      <td>0.00</td>\n",
       "      <td>1</td>\n",
       "      <td>1</td>\n",
       "      <td>1</td>\n",
       "      <td>101348.88</td>\n",
       "      <td>1</td>\n",
       "    </tr>\n",
       "    <tr>\n",
       "      <th>1</th>\n",
       "      <td>15647311</td>\n",
       "      <td>608</td>\n",
       "      <td>Spain</td>\n",
       "      <td>Female</td>\n",
       "      <td>41</td>\n",
       "      <td>1</td>\n",
       "      <td>83807.86</td>\n",
       "      <td>1</td>\n",
       "      <td>0</td>\n",
       "      <td>1</td>\n",
       "      <td>112542.58</td>\n",
       "      <td>0</td>\n",
       "    </tr>\n",
       "    <tr>\n",
       "      <th>2</th>\n",
       "      <td>15619304</td>\n",
       "      <td>502</td>\n",
       "      <td>France</td>\n",
       "      <td>Female</td>\n",
       "      <td>42</td>\n",
       "      <td>8</td>\n",
       "      <td>159660.80</td>\n",
       "      <td>3</td>\n",
       "      <td>1</td>\n",
       "      <td>0</td>\n",
       "      <td>113931.57</td>\n",
       "      <td>1</td>\n",
       "    </tr>\n",
       "    <tr>\n",
       "      <th>3</th>\n",
       "      <td>15701354</td>\n",
       "      <td>699</td>\n",
       "      <td>France</td>\n",
       "      <td>Female</td>\n",
       "      <td>39</td>\n",
       "      <td>1</td>\n",
       "      <td>0.00</td>\n",
       "      <td>2</td>\n",
       "      <td>0</td>\n",
       "      <td>0</td>\n",
       "      <td>93826.63</td>\n",
       "      <td>0</td>\n",
       "    </tr>\n",
       "    <tr>\n",
       "      <th>4</th>\n",
       "      <td>15737888</td>\n",
       "      <td>850</td>\n",
       "      <td>Spain</td>\n",
       "      <td>Female</td>\n",
       "      <td>43</td>\n",
       "      <td>2</td>\n",
       "      <td>125510.82</td>\n",
       "      <td>1</td>\n",
       "      <td>1</td>\n",
       "      <td>1</td>\n",
       "      <td>79084.10</td>\n",
       "      <td>0</td>\n",
       "    </tr>\n",
       "  </tbody>\n",
       "</table>\n",
       "</div>"
      ],
      "text/plain": [
       "   CustomerId  CreditScore Geography  Gender  Age  Tenure    Balance  \\\n",
       "0    15634602          619    France  Female   42       2       0.00   \n",
       "1    15647311          608     Spain  Female   41       1   83807.86   \n",
       "2    15619304          502    France  Female   42       8  159660.80   \n",
       "3    15701354          699    France  Female   39       1       0.00   \n",
       "4    15737888          850     Spain  Female   43       2  125510.82   \n",
       "\n",
       "   NumOfProducts  HasCrCard  IsActiveMember  EstimatedSalary  Exited  \n",
       "0              1          1               1        101348.88       1  \n",
       "1              1          0               1        112542.58       0  \n",
       "2              3          1               0        113931.57       1  \n",
       "3              2          0               0         93826.63       0  \n",
       "4              1          1               1         79084.10       0  "
      ]
     },
     "execution_count": 5,
     "metadata": {},
     "output_type": "execute_result"
    }
   ],
   "source": [
    "# Importa Base de Dados\n",
    "df_ml = pd.read_csv('clean.csv', sep = \";\")\n",
    "df_ml.head()"
   ]
  },
  {
   "cell_type": "code",
   "execution_count": 6,
   "metadata": {},
   "outputs": [],
   "source": [
    "# Substitui variaveis descritivas\n",
    "df_ml['id_geography'] = df_ml['Geography'].replace({'France': 0, 'Spain': 1, 'Germany': 2})\n",
    "df_ml['id_gender'] = df_ml['Gender'].replace({'Female': 0, 'Male': 1})"
   ]
  },
  {
   "cell_type": "code",
   "execution_count": 8,
   "metadata": {},
   "outputs": [],
   "source": [
    "# Exclui colunas que nao serao utilizadas no modelo\n",
    "# df_ml = df_ml.drop(columns=[\"Surname\", \"RowNumber\", \"Geography\", \"Gender\"])"
   ]
  },
  {
   "cell_type": "markdown",
   "metadata": {
    "jp-MarkdownHeadingCollapsed": true
   },
   "source": [
    "# Analise de correlacao entre as colunas"
   ]
  },
  {
   "cell_type": "code",
   "execution_count": 6,
   "metadata": {},
   "outputs": [
    {
     "data": {
      "image/png": "[encoded data removed]",
      "text/plain": [
       "<Figure size 1000x800 with 2 Axes>"
      ]
     },
     "metadata": {},
     "output_type": "display_data"
    }
   ],
   "source": [
    "# Análise da correlação entre as colunas\n",
    "correlation_matrix = df_ml.corr()\n",
    "plt.figure(figsize=(10, 8))\n",
    "sns.heatmap(correlation_matrix, annot=True, cmap='seismic', center=0)\n",
    "plt.title(\"Matriz de Correlação\")\n",
    "plt.show()"
   ]
  },
  {
   "cell_type": "markdown",
   "metadata": {},
   "source": [
    "# Construção dos Modelos"
   ]
  },
  {
   "cell_type": "markdown",
   "metadata": {
    "jp-MarkdownHeadingCollapsed": true
   },
   "source": [
    "### Definição da variáveis de treino e de teste"
   ]
  },
  {
   "cell_type": "code",
   "execution_count": 9,
   "metadata": {},
   "outputs": [],
   "source": [
    "# definindo a aleatoriedade para separação das bases de treino e de teste\n",
    "SEED = 5\n",
    "np.random.seed(SEED)"
   ]
  },
  {
   "cell_type": "code",
   "execution_count": 10,
   "metadata": {},
   "outputs": [],
   "source": [
    "# Separa os dados em features e target\n",
    "x = df_ml[[\"CreditScore\", \"Age\", \"Tenure\", \"Balance\", \"NumOfProducts\", \"HasCrCard\", \"IsActiveMember\", \"EstimatedSalary\", \"id_geography\", \"id_gender\"]] # Features\n",
    "y = df_ml[\"Exited\"] # Target variable"
   ]
  },
  {
   "cell_type": "markdown",
   "metadata": {},
   "source": [
    "Base possue grande desproporcionalidade entre os valores de churn positivo e churn negativo, por isso o balanceamento é necessário."
   ]
  },
  {
   "cell_type": "code",
   "execution_count": 11,
   "metadata": {},
   "outputs": [],
   "source": [
    "# Usa SMOTE() para balancear a divisao entre número de churn positivos e de negativos\n",
    "treino_x, treino_y = SMOTE().fit_resample(x, y)"
   ]
  },
  {
   "cell_type": "code",
   "execution_count": 12,
   "metadata": {},
   "outputs": [
    {
     "name": "stdout",
     "output_type": "stream",
     "text": [
      "Contagem de classes antes do balanceamento:\n",
      "Exited\n",
      "0    7934\n",
      "1    2017\n",
      "Name: count, dtype: int64\n",
      "\n",
      "Contagem de classes após o balanceamento:\n",
      "Exited\n",
      "1    7934\n",
      "0    7934\n",
      "Name: count, dtype: int64\n"
     ]
    }
   ],
   "source": [
    "print(\"Contagem de classes antes do balanceamento:\")\n",
    "print(y.value_counts())\n",
    " \n",
    "print(\"\\nContagem de classes após o balanceamento:\")\n",
    "print(treino_y.value_counts())"
   ]
  },
  {
   "cell_type": "code",
   "execution_count": 13,
   "metadata": {},
   "outputs": [],
   "source": [
    "# Divide de variaveis de treino e de teste (features e target)\n",
    "treino_x, teste_x, treino_y, teste_y = train_test_split(treino_x, \n",
    "                                                        treino_y, \n",
    "                                                        random_state=SEED, \n",
    "                                                        test_size=0.3)"
   ]
  },
  {
   "cell_type": "code",
   "execution_count": 14,
   "metadata": {},
   "outputs": [],
   "source": [
    "# Escala as duas variáveis\n",
    "scaler = MinMaxScaler(feature_range=(0, 1))\n",
    "treino_x = scaler.fit_transform(treino_x)\n",
    "teste_x = scaler.fit_transform(teste_x)"
   ]
  },
  {
   "cell_type": "markdown",
   "metadata": {
    "jp-MarkdownHeadingCollapsed": true
   },
   "source": [
    "### SVC"
   ]
  },
  {
   "cell_type": "code",
   "execution_count": 15,
   "metadata": {},
   "outputs": [],
   "source": [
    "# Modelo SVC\n",
    "svc = SVC()"
   ]
  },
  {
   "cell_type": "code",
   "execution_count": 17,
   "metadata": {},
   "outputs": [],
   "source": [
    "# Definindo o espaço de parametros\n",
    "param_space_svc = {\n",
    "    'C': Real(1e-6, 1e+6, prior='log-uniform'),\n",
    "    'kernel': Categorical(['linear', 'poly', 'rbf', 'sigmoid']),\n",
    "    'degree': Integer(1, 5), # Ignorado para outros kernels que não o 'poly'\n",
    "    'gamma': Real(1e-6, 1e+1, prior='log-uniform'), # 'scale' e 'auto' também são opções válidas\n",
    "    'coef0': Real(0, 10),\n",
    "    'tol': Real(1e-6, 1e-1, prior='log-uniform')\n",
    "}\n",
    "\n",
    "# Instancia do BayesSearchCV\n",
    "bayes_svc = BayesSearchCV(\n",
    "    estimator=svc,\n",
    "    search_spaces=param_space_svc,\n",
    "    n_iter=10,\n",
    "    cv=3,\n",
    "    scoring='accuracy',\n",
    "    n_jobs=-1,\n",
    "    random_state=SEED\n",
    ")"
   ]
  },
  {
   "cell_type": "code",
   "execution_count": 18,
   "metadata": {},
   "outputs": [],
   "source": [
    "# Modelo com hiperparametros definidos\n",
    "bayes_svc.fit(treino_x, treino_y)\n",
    "previsoes_svc = bayes_svc.predict(teste_x)"
   ]
  },
  {
   "cell_type": "code",
   "execution_count": 19,
   "metadata": {},
   "outputs": [
    {
     "name": "stdout",
     "output_type": "stream",
     "text": [
      "A acurácia foi de: 77.97%\n"
     ]
    }
   ],
   "source": [
    "# Acuracia SVC\n",
    "acuracia = accuracy_score(teste_y, previsoes_svc) * 100\n",
    "print(\"A acurácia foi de: %.2f%%\" % acuracia)"
   ]
  },
  {
   "cell_type": "code",
   "execution_count": 20,
   "metadata": {},
   "outputs": [
    {
     "data": {
      "image/png": "[encoded data removed]",
      "text/plain": [
       "<Figure size 800x600 with 2 Axes>"
      ]
     },
     "metadata": {},
     "output_type": "display_data"
    }
   ],
   "source": [
    "# Matriz de confusao SVC\n",
    "y_true_svc = teste_y\n",
    "y_pred_svc = previsoes_svc\n",
    "matriz_de_confusao_svc = confusion_matrix(y_true_svc, y_pred_svc) \n",
    " \n",
    "plt.figure(figsize=(8, 6))\n",
    " \n",
    "sns.heatmap(matriz_de_confusao_svc, annot=True, fmt='d')\n",
    " \n",
    "plt.title('Matriz de Confusão - SVC')\n",
    "plt.show()"
   ]
  },
  {
   "cell_type": "code",
   "execution_count": 16,
   "metadata": {},
   "outputs": [
    {
     "data": {
      "text/plain": [
       "array([[2001,  396],\n",
       "       [ 483, 1898]], dtype=int64)"
      ]
     },
     "execution_count": 16,
     "metadata": {},
     "output_type": "execute_result"
    }
   ],
   "source": [
    "matriz_de_confusao_svc"
   ]
  },
  {
   "cell_type": "code",
   "execution_count": 21,
   "metadata": {},
   "outputs": [
    {
     "name": "stdout",
     "output_type": "stream",
     "text": [
      "A taxa de Recall do SVC foi de: 77.46%\n"
     ]
    }
   ],
   "source": [
    "# Recall SVC\n",
    "recall_svc = recall_score(teste_y, previsoes_svc) * 100\n",
    "print(\"A taxa de Recall do SVC foi de: %.2f%%\" % recall_svc)"
   ]
  },
  {
   "cell_type": "markdown",
   "metadata": {
    "jp-MarkdownHeadingCollapsed": true
   },
   "source": [
    "### KNN (K Neighbors Classifier)"
   ]
  },
  {
   "cell_type": "code",
   "execution_count": 22,
   "metadata": {},
   "outputs": [],
   "source": [
    "# Modelo KNN\n",
    "knn = KNeighborsClassifier()"
   ]
  },
  {
   "cell_type": "code",
   "execution_count": 23,
   "metadata": {},
   "outputs": [],
   "source": [
    "# Hiperparâmetros KNN utilizando BayesSearchCV\n",
    "param_space_knn = {\n",
    "    'n_neighbors': Integer(1, 30),\n",
    "    'weights': Categorical(['uniform', 'distance']),\n",
    "    'metric': Categorical(['euclidean', 'manhattan', 'minkowski']),\n",
    "    'algorithm': Categorical(['ball_tree', 'kd_tree', 'brute', 'auto'])\n",
    "}\n",
    "\n",
    "# Instância do BayesSearchCV\n",
    "bayes_knn = BayesSearchCV(\n",
    "    estimator=knn,\n",
    "    search_spaces=param_space_knn,\n",
    "    n_iter=50,         \n",
    "    cv=5,               \n",
    "    scoring='accuracy', \n",
    "    n_jobs=-1,          \n",
    "    random_state=SEED     \n",
    ")"
   ]
  },
  {
   "cell_type": "code",
   "execution_count": 24,
   "metadata": {},
   "outputs": [],
   "source": [
    "# Rodando modelo com hiperparametros definidos\n",
    "bayes_knn.fit(treino_x, treino_y)\n",
    "previsoes_knn = bayes_knn.predict(teste_x)"
   ]
  },
  {
   "cell_type": "code",
   "execution_count": 25,
   "metadata": {},
   "outputs": [
    {
     "name": "stdout",
     "output_type": "stream",
     "text": [
      "A acurácia foi de: 81.52%\n"
     ]
    }
   ],
   "source": [
    "# Acuracia KNN\n",
    "acuracia_knn = accuracy_score(teste_y, previsoes_knn) * 100\n",
    "print(\"A acurácia foi de: %.2f%%\" % acuracia_knn)"
   ]
  },
  {
   "cell_type": "code",
   "execution_count": 26,
   "metadata": {},
   "outputs": [
    {
     "data": {
      "image/png": "[encoded data removed]",
      "text/plain": [
       "<Figure size 800x600 with 2 Axes>"
      ]
     },
     "metadata": {},
     "output_type": "display_data"
    }
   ],
   "source": [
    "# Matriz de confusao KNN\n",
    "y_true_knn = teste_y\n",
    "y_pred_knn = previsoes_knn\n",
    "matriz_de_confusao_knn = confusion_matrix(y_true_knn, y_pred_knn) \n",
    " \n",
    "plt.figure(figsize=(8, 6))\n",
    " \n",
    "sns.heatmap(matriz_de_confusao_knn, annot=True, fmt='d')\n",
    " \n",
    "plt.title('Matriz de Confusão - KNN')\n",
    "plt.show()"
   ]
  },
  {
   "cell_type": "code",
   "execution_count": 27,
   "metadata": {},
   "outputs": [
    {
     "data": {
      "text/plain": [
       "array([[1846,  502],\n",
       "       [ 378, 2035]], dtype=int64)"
      ]
     },
     "execution_count": 27,
     "metadata": {},
     "output_type": "execute_result"
    }
   ],
   "source": [
    "matriz_de_confusao_knn"
   ]
  },
  {
   "cell_type": "code",
   "execution_count": 28,
   "metadata": {},
   "outputs": [
    {
     "name": "stdout",
     "output_type": "stream",
     "text": [
      "A taxa de Recall do KNN foi de: 84.33%\n"
     ]
    }
   ],
   "source": [
    "# Recall KNN\n",
    "recall_knn = recall_score(teste_y, previsoes_knn) * 100\n",
    "print(\"A taxa de Recall do KNN foi de: %.2f%%\" % recall_knn)"
   ]
  },
  {
   "cell_type": "markdown",
   "metadata": {
    "jp-MarkdownHeadingCollapsed": true
   },
   "source": [
    "### Arvore de decisao"
   ]
  },
  {
   "cell_type": "code",
   "execution_count": 29,
   "metadata": {},
   "outputs": [],
   "source": [
    "# Modelo Decision Tree\n",
    "decisionTree = tree.DecisionTreeClassifier()"
   ]
  },
  {
   "cell_type": "code",
   "execution_count": 30,
   "metadata": {},
   "outputs": [],
   "source": [
    "param_space_tree = {\n",
    "    'max_depth': Integer(1, 50),\n",
    "    'min_samples_split': Integer(2, 100),\n",
    "    'min_samples_leaf': Integer(1, 50),\n",
    "    'max_features': Categorical(['auto', 'sqrt', 'log2', None]),\n",
    "    'max_leaf_nodes': Integer(10, 1000, 'uniform'),\n",
    "    'criterion': Categorical(['gini', 'entropy'])\n",
    "}\n",
    "\n",
    "# Instância do BayesSearchCV\n",
    "bayes_decisionTree = BayesSearchCV(\n",
    "    estimator=decisionTree,\n",
    "    search_spaces=param_space_tree,\n",
    "    n_iter=50,          # Número de iterações da busca bayesiana\n",
    "    cv=5,               # Número de folds da validação cruzada\n",
    "    scoring='accuracy', # Métrica para avaliar o desempenho\n",
    "    n_jobs=-1,          # Número de processos a serem executados em paralelo\n",
    "    random_state=SEED    # Semente de aleatoriedade para resultados reprodutíveis\n",
    ")"
   ]
  },
  {
   "cell_type": "code",
   "execution_count": 31,
   "metadata": {},
   "outputs": [],
   "source": [
    "bayes_decisionTree.fit(treino_x, treino_y)\n",
    "previsoes_decisionTree = bayes_decisionTree.predict(teste_x)"
   ]
  },
  {
   "cell_type": "code",
   "execution_count": 32,
   "metadata": {},
   "outputs": [
    {
     "name": "stdout",
     "output_type": "stream",
     "text": [
      "A acurácia foi de: 80.03%\n"
     ]
    }
   ],
   "source": [
    "# Acuracia Decision Tree\n",
    "acuracia_tree = accuracy_score(teste_y, previsoes_decisionTree) * 100\n",
    "print(\"A acurácia foi de: %.2f%%\" % acuracia_tree)"
   ]
  },
  {
   "cell_type": "code",
   "execution_count": 33,
   "metadata": {},
   "outputs": [
    {
     "data": {
      "image/png": "[encoded data removed]",
      "text/plain": [
       "<Figure size 800x600 with 2 Axes>"
      ]
     },
     "metadata": {},
     "output_type": "display_data"
    }
   ],
   "source": [
    "# Matriz de confusao Decision Tree\n",
    "y_true_tree = teste_y\n",
    "y_pred_tree = previsoes_decisionTree\n",
    "matriz_de_confusao_tree = confusion_matrix(y_true_tree, y_pred_tree) \n",
    " \n",
    "plt.figure(figsize=(8, 6))\n",
    " \n",
    "sns.heatmap(matriz_de_confusao_tree, annot=True, fmt='d')\n",
    " \n",
    "plt.title('Matriz de Confusão - Decision Tree')\n",
    "plt.show()"
   ]
  },
  {
   "cell_type": "code",
   "execution_count": 34,
   "metadata": {},
   "outputs": [
    {
     "data": {
      "text/plain": [
       "array([[1925,  423],\n",
       "       [ 528, 1885]], dtype=int64)"
      ]
     },
     "execution_count": 34,
     "metadata": {},
     "output_type": "execute_result"
    }
   ],
   "source": [
    "matriz_de_confusao_tree"
   ]
  },
  {
   "cell_type": "code",
   "execution_count": 35,
   "metadata": {},
   "outputs": [
    {
     "name": "stdout",
     "output_type": "stream",
     "text": [
      "A taxa de Recall foi de: 78.12%\n"
     ]
    }
   ],
   "source": [
    "# Recall Decision Tree\n",
    "recall_tree = recall_score(teste_y, previsoes_decisionTree) * 100\n",
    "print(\"A taxa de Recall foi de: %.2f%%\" % recall_tree)"
   ]
  },
  {
   "cell_type": "markdown",
   "metadata": {
    "jp-MarkdownHeadingCollapsed": true
   },
   "source": [
    "### XGBOOST"
   ]
  },
  {
   "cell_type": "code",
   "execution_count": 36,
   "metadata": {},
   "outputs": [],
   "source": [
    "# Modelo XGBOOST\n",
    "xgboost = XGBClassifier()"
   ]
  },
  {
   "cell_type": "code",
   "execution_count": 37,
   "metadata": {},
   "outputs": [],
   "source": [
    "# Hiperparâmetros XGBOOST utilizando BayesSearchCV\n",
    "param_space_xgboost = {\n",
    "    'n_estimators': Integer(50, 1000),\n",
    "    'max_depth': Integer(3, 50),\n",
    "    'learning_rate': Real(0.01, 1.0, 'log-uniform'),\n",
    "    'subsample': Real(0.5, 1.0),\n",
    "    'colsample_bytree': Real(0.5, 1.0),\n",
    "    'min_child_weight': Integer(1, 10),\n",
    "    'gamma': Real(0, 5),\n",
    "    'reg_alpha': Real(0, 5),\n",
    "    'reg_lambda': Real(0, 5)\n",
    "}\n",
    "\n",
    "# Instância do BayesSearchCV\n",
    "bayes_xgboost = BayesSearchCV(\n",
    "    estimator=xgboost,\n",
    "    search_spaces=param_space_xgboost,\n",
    "    n_iter=50,    \n",
    "    cv=3,         \n",
    "    scoring='accuracy',  \n",
    "    n_jobs=-1     \n",
    ")\n"
   ]
  },
  {
   "cell_type": "code",
   "execution_count": 38,
   "metadata": {},
   "outputs": [],
   "source": [
    "# Rodando modelo com hiperparametros definidos\n",
    "bayes_xgboost.fit(treino_x, treino_y)\n",
    "previsoes_xgboost = bayes_xgboost.predict(teste_x)"
   ]
  },
  {
   "cell_type": "code",
   "execution_count": 39,
   "metadata": {},
   "outputs": [
    {
     "name": "stdout",
     "output_type": "stream",
     "text": [
      "A acurácia foi de: 85.80%\n"
     ]
    }
   ],
   "source": [
    "# Acuracia xgboost\n",
    "acuracia_xgboost = accuracy_score(teste_y, previsoes_xgboost) * 100\n",
    "print(\"A acurácia foi de: %.2f%%\" % acuracia_xgboost)"
   ]
  },
  {
   "cell_type": "code",
   "execution_count": 40,
   "metadata": {},
   "outputs": [
    {
     "data": {
      "image/png": "[encoded data removed]",
      "text/plain": [
       "<Figure size 800x600 with 2 Axes>"
      ]
     },
     "metadata": {},
     "output_type": "display_data"
    }
   ],
   "source": [
    "# Matriz de confusao XGBOOST\n",
    "y_true_xgboost = teste_y\n",
    "y_pred_xgboost = previsoes_xgboost\n",
    "matriz_de_confusao_xgboost = confusion_matrix(y_true_xgboost, y_pred_xgboost) \n",
    " \n",
    "plt.figure(figsize=(8, 6))\n",
    " \n",
    "sns.heatmap(matriz_de_confusao_xgboost, annot=True, fmt='d')\n",
    " \n",
    "plt.title('Matriz de Confusão - xgboost')\n",
    "plt.show()"
   ]
  },
  {
   "cell_type": "code",
   "execution_count": 41,
   "metadata": {},
   "outputs": [
    {
     "data": {
      "text/plain": [
       "array([[1991,  357],\n",
       "       [ 319, 2094]], dtype=int64)"
      ]
     },
     "execution_count": 41,
     "metadata": {},
     "output_type": "execute_result"
    }
   ],
   "source": [
    "matriz_de_confusao_xgboost"
   ]
  },
  {
   "cell_type": "code",
   "execution_count": 42,
   "metadata": {},
   "outputs": [
    {
     "name": "stdout",
     "output_type": "stream",
     "text": [
      "A taxa de Recall do xgboost foi de: 86.78%\n"
     ]
    }
   ],
   "source": [
    "# Recall XGBOOST\n",
    "recall_xgboost = recall_score(teste_y, previsoes_xgboost) * 100\n",
    "print(\"A taxa de Recall do xgboost foi de: %.2f%%\" % recall_xgboost)"
   ]
  },
  {
   "cell_type": "code",
   "execution_count": 43,
   "metadata": {},
   "outputs": [],
   "source": [
    "# Salvar modelo treinado\n",
    "joblib.dump(xgboost, 'xgboost_model.pkl') \n",
    "\n",
    "# Carregar modelo treinado (quando necessário)\n",
    "xgboost_loaded = joblib.load('xgboost_model.pkl')"
   ]
  },
  {
   "cell_type": "markdown",
   "metadata": {},
   "source": [
    "# Resultados dos Modelos"
   ]
  },
  {
   "cell_type": "code",
   "execution_count": null,
   "metadata": {},
   "outputs": [],
   "source": [
    "# Métricas antes do hyper tuning e depois"
   ]
  },
  {
   "cell_type": "code",
   "execution_count": null,
   "metadata": {},
   "outputs": [],
   "source": [
    "# Modelo em notebook unico, salvar como um novo csv\n",
    "# Lan"
   ]
  }
 ],
 "metadata": {
  "kernelspec": {
   "display_name": "Python 3 (ipykernel)",
   "language": "python",
   "name": "python3"
  },
  "language_info": {
   "codemirror_mode": {
    "name": "ipython",
    "version": 3
   },
   "file_extension": ".py",
   "mimetype": "text/x-python",
   "name": "python",
   "nbconvert_exporter": "python",
   "pygments_lexer": "ipython3",
   "version": "3.11.7"
  }
 },
 "nbformat": 4,
 "nbformat_minor": 4
}
